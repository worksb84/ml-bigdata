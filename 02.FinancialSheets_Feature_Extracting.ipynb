{
 "cells": [
  {
   "cell_type": "code",
   "execution_count": 1,
   "metadata": {
    "execution": {
     "iopub.execute_input": "2024-03-15T03:40:54.804826Z",
     "iopub.status.busy": "2024-03-15T03:40:54.804488Z",
     "iopub.status.idle": "2024-03-15T03:41:26.143953Z",
     "shell.execute_reply": "2024-03-15T03:41:26.143226Z",
     "shell.execute_reply.started": "2024-03-15T03:40:54.804795Z"
    }
   },
   "outputs": [
    {
     "data": {
      "application/vnd.jupyter.widget-view+json": {
       "model_id": "43060801d1364d86b2b1e375a97b9a9f",
       "version_major": 2,
       "version_minor": 0
      },
      "text/plain": [
       "VBox()"
      ]
     },
     "metadata": {},
     "output_type": "display_data"
    },
    {
     "name": "stdout",
     "output_type": "stream",
     "text": [
      "Starting Spark application\n"
     ]
    },
    {
     "data": {
      "text/html": [
       "<table>\n<tbody><tr><th>ID</th><th>YARN Application ID</th><th>Kind</th><th>State</th><th>Spark UI</th><th>Driver log</th><th>User</th><th>Current session?</th></tr><tr><td>46</td><td>application_1707107681556_0047</td><td>spark</td><td>idle</td><td><a target=\"_blank\" href=\"http://ip-10-0-15-66.ap-northeast-2.compute.internal:20888/proxy/application_1707107681556_0047/\" class=\"emr-proxy-link j-3F4C8SU6NE8DG application_1707107681556_0047\" emr-resource=\"j-3F4C8SU6NE8DG\n\" application-id=\"application_1707107681556_0047\">Link</a></td><td><a target=\"_blank\" href=\"http://ip-10-0-12-96.ap-northeast-2.compute.internal:8042/node/containerlogs/container_1707107681556_0047_01_000001/livy\">Link</a></td><td>None</td><td>✔</td></tr></tbody></table>"
      ],
      "text/plain": [
       "<IPython.core.display.HTML object>"
      ]
     },
     "metadata": {},
     "output_type": "display_data"
    },
    {
     "data": {
      "application/vnd.jupyter.widget-view+json": {
       "model_id": "",
       "version_major": 2,
       "version_minor": 0
      },
      "text/plain": [
       "FloatProgress(value=0.0, bar_style='info', description='Progress:', layout=Layout(height='25px', width='50%'),…"
      ]
     },
     "metadata": {},
     "output_type": "display_data"
    },
    {
     "name": "stdout",
     "output_type": "stream",
     "text": [
      "SparkSession available as 'spark'.\n"
     ]
    },
    {
     "data": {
      "application/vnd.jupyter.widget-view+json": {
       "model_id": "",
       "version_major": 2,
       "version_minor": 0
      },
      "text/plain": [
       "FloatProgress(value=0.0, bar_style='info', description='Progress:', layout=Layout(height='25px', width='50%'),…"
      ]
     },
     "metadata": {},
     "output_type": "display_data"
    },
    {
     "name": "stdout",
     "output_type": "stream",
     "text": [
      "import org.apache.spark.sql.functions._\n",
      "import org.apache.spark.sql.expressions._\n",
      "import scala.util.{Failure, Success, Try}\n",
      "import org.apache.spark.sql.types._\n",
      "import org.apache.spark.sql.SparkSession\n",
      "import java.time.LocalDateTime\n",
      "import java.time.LocalDate\n",
      "import java.time.format.DateTimeFormatter\n",
      "import java.time.temporal.ChronoUnit.DAYS\n"
     ]
    }
   ],
   "source": [
    "import org.apache.spark.sql.functions._\n",
    "import org.apache.spark.sql.expressions._\n",
    "import scala.util.{Failure, Success, Try}\n",
    "import org.apache.spark.sql.types._\n",
    "import org.apache.spark.sql.SparkSession\n",
    "\n",
    "import java.time.LocalDateTime\n",
    "import java.time.LocalDate\n",
    "import java.time.format.DateTimeFormatter\n",
    "import java.time.temporal.ChronoUnit.DAYS"
   ]
  },
  {
   "cell_type": "code",
   "execution_count": 2,
   "metadata": {
    "execution": {
     "iopub.execute_input": "2024-03-15T03:41:26.145924Z",
     "iopub.status.busy": "2024-03-15T03:41:26.145558Z",
     "iopub.status.idle": "2024-03-15T03:41:29.429791Z",
     "shell.execute_reply": "2024-03-15T03:41:29.428894Z",
     "shell.execute_reply.started": "2024-03-15T03:41:26.145886Z"
    }
   },
   "outputs": [
    {
     "data": {
      "application/vnd.jupyter.widget-view+json": {
       "model_id": "7733564ee7854327b3fcef9e4439502a",
       "version_major": 2,
       "version_minor": 0
      },
      "text/plain": [
       "VBox()"
      ]
     },
     "metadata": {},
     "output_type": "display_data"
    },
    {
     "data": {
      "application/vnd.jupyter.widget-view+json": {
       "model_id": "",
       "version_major": 2,
       "version_minor": 0
      },
      "text/plain": [
       "FloatProgress(value=0.0, bar_style='info', description='Progress:', layout=Layout(height='25px', width='50%'),…"
      ]
     },
     "metadata": {},
     "output_type": "display_data"
    },
    {
     "name": "stdout",
     "output_type": "stream",
     "text": [
      "appName: String = 20240315034127\n",
      "spark: org.apache.spark.sql.SparkSession = org.apache.spark.sql.SparkSession@d946e0\n"
     ]
    }
   ],
   "source": [
    "val appName = LocalDateTime.now().format(DateTimeFormatter.ofPattern(\"yyyyMMddHHmmss\"))\n",
    "\n",
    "val spark = (\n",
    "    SparkSession\n",
    "    .builder()\n",
    "    .appName(appName)\n",
    "    .config(\"spark.cores.max\", 8)\n",
    "    .config(\"spark.executor.cores\", 8)\n",
    "    .config(\"spark.executor.memory\", \"36g\")\n",
    "    .getOrCreate()\n",
    "    )"
   ]
  },
  {
   "cell_type": "code",
   "execution_count": 3,
   "metadata": {
    "execution": {
     "iopub.execute_input": "2024-03-15T03:42:34.436409Z",
     "iopub.status.busy": "2024-03-15T03:42:34.436071Z",
     "iopub.status.idle": "2024-03-15T03:42:35.196021Z",
     "shell.execute_reply": "2024-03-15T03:42:35.195327Z",
     "shell.execute_reply.started": "2024-03-15T03:42:34.436380Z"
    }
   },
   "outputs": [
    {
     "data": {
      "application/vnd.jupyter.widget-view+json": {
       "model_id": "803c8c8267384df58f4ea44ff4cbb2e1",
       "version_major": 2,
       "version_minor": 0
      },
      "text/plain": [
       "VBox()"
      ]
     },
     "metadata": {},
     "output_type": "display_data"
    },
    {
     "data": {
      "application/vnd.jupyter.widget-view+json": {
       "model_id": "",
       "version_major": 2,
       "version_minor": 0
      },
      "text/plain": [
       "FloatProgress(value=0.0, bar_style='info', description='Progress:', layout=Layout(height='25px', width='50%'),…"
      ]
     },
     "metadata": {},
     "output_type": "display_data"
    },
    {
     "name": "stdout",
     "output_type": "stream",
     "text": [
      "mongoUrl: String = mongodb+srv://xxxxxxxxxxxxxxxxxxxxxx/\n"
     ]
    }
   ],
   "source": [
    "val mongoUrl = \"mongodb+srv://xxxxxxxxxxxxxxxxxxxxxx/\""
   ]
  },
  {
   "cell_type": "code",
   "execution_count": 4,
   "metadata": {
    "execution": {
     "iopub.execute_input": "2024-03-15T03:42:35.311368Z",
     "iopub.status.busy": "2024-03-15T03:42:35.311089Z",
     "iopub.status.idle": "2024-03-15T03:42:40.594652Z",
     "shell.execute_reply": "2024-03-15T03:42:40.593728Z",
     "shell.execute_reply.started": "2024-03-15T03:42:35.311343Z"
    }
   },
   "outputs": [
    {
     "data": {
      "application/vnd.jupyter.widget-view+json": {
       "model_id": "99d084a5e73448c3bd88c8f73863607d",
       "version_major": 2,
       "version_minor": 0
      },
      "text/plain": [
       "VBox()"
      ]
     },
     "metadata": {},
     "output_type": "display_data"
    },
    {
     "data": {
      "application/vnd.jupyter.widget-view+json": {
       "model_id": "",
       "version_major": 2,
       "version_minor": 0
      },
      "text/plain": [
       "FloatProgress(value=0.0, bar_style='info', description='Progress:', layout=Layout(height='25px', width='50%'),…"
      ]
     },
     "metadata": {},
     "output_type": "display_data"
    },
    {
     "name": "stdout",
     "output_type": "stream",
     "text": [
      "df: org.apache.spark.sql.DataFrame = [accountDetail: string, accountId: string ... 13 more fields]\n"
     ]
    }
   ],
   "source": [
    "val df = (\n",
    "    spark.read.format(\"mongodb\")\n",
    "    .option(\"spark.mongodb.read.connection.uri\", mongoUrl)\n",
    "    .option(\"spark.mongodb.write.connection.uri\", mongoUrl)\n",
    "    .option(\"database\", \"coreEngine\")\n",
    "    .option(\"collection\", \"ReportCleansing\")\n",
    "    .load()\n",
    "    .drop(\"_id\")\n",
    "    )"
   ]
  },
  {
   "cell_type": "code",
   "execution_count": 6,
   "metadata": {
    "execution": {
     "iopub.execute_input": "2024-03-15T03:42:57.683351Z",
     "iopub.status.busy": "2024-03-15T03:42:57.683022Z",
     "iopub.status.idle": "2024-03-15T03:43:10.998951Z",
     "shell.execute_reply": "2024-03-15T03:43:10.998051Z",
     "shell.execute_reply.started": "2024-03-15T03:42:57.683324Z"
    },
    "tags": []
   },
   "outputs": [
    {
     "data": {
      "application/vnd.jupyter.widget-view+json": {
       "model_id": "babc971e54914132a20e3bf49bdadc69",
       "version_major": 2,
       "version_minor": 0
      },
      "text/plain": [
       "VBox()"
      ]
     },
     "metadata": {},
     "output_type": "display_data"
    },
    {
     "data": {
      "application/vnd.jupyter.widget-view+json": {
       "model_id": "",
       "version_major": 2,
       "version_minor": 0
      },
      "text/plain": [
       "FloatProgress(value=0.0, bar_style='info', description='Progress:', layout=Layout(height='25px', width='50%'),…"
      ]
     },
     "metadata": {},
     "output_type": "display_data"
    },
    {
     "name": "stdout",
     "output_type": "stream",
     "text": [
      "+-------------+--------------------+--------------------------+--------+--------+-----+--------------+---------+-----+--------------+---------+---------+------------+--------+----------+\n",
      "|accountDetail|           accountId|                 accountNm|bsnsYear|corpCode|fsDiv|       rceptNo|reprtCode|sjDiv|          sjNm|stockCode|stockName|thstrmAmount|thstrmNm|updateDate|\n",
      "+-------------+--------------------+--------------------------+--------+--------+-----+--------------+---------+-----+--------------+---------+---------+------------+--------+----------+\n",
      "|            -|       CurrentAssets|                  ????|    2015|00378363|  CFS|20150629000563|    11011|   BS|    ?????|   060310|       3S| 16069077218|? 25 ?|  20150629|\n",
      "|            -|         Inventories|                  ????|    2015|00378363|  CFS|20150629000563|    11011|   BS|    ?????|   060310|       3S|  2039364323|? 25 ?|  20150629|\n",
      "|            -|    NoncurrentAssets|                ?????|    2015|00378363|  CFS|20150629000563|    11011|   BS|    ?????|   060310|       3S| 51290894478|? 25 ?|  20150629|\n",
      "|            -|PropertyPlantAndE...|                  ????|    2015|00378363|  CFS|20150629000563|    11011|   BS|    ?????|   060310|       3S| 41222707475|? 25 ?|  20150629|\n",
      "|            -|IntangibleAssetsO...|      ??????????|    2015|00378363|  CFS|20150629000563|    11011|   BS|    ?????|   060310|       3S|  2159817208|? 25 ?|  20150629|\n",
      "|            -|              Assets|                  ????|    2015|00378363|  CFS|20150629000563|    11011|   BS|    ?????|   060310|       3S| 67359971696|? 25 ?|  20150629|\n",
      "|            -|  CurrentLiabilities|                  ????|    2015|00378363|  CFS|20150629000563|    11011|   BS|    ?????|   060310|       3S| 22116830938|? 25 ?|  20150629|\n",
      "|            -|   CurrentProvisions|              ??????|    2015|00378363|  CFS|20150629000563|    11011|   BS|    ?????|   060310|       3S|    74638249|? 25 ?|  20150629|\n",
      "|            -|         Liabilities|                  ????|    2015|00378363|  CFS|20150629000563|    11011|   BS|    ?????|   060310|       3S| 29420163240|? 25 ?|  20150629|\n",
      "|            -|       IssuedCapital|                    ???|    2015|00378363|  CFS|20150629000563|    11011|   BS|    ?????|   060310|       3S| 20446134000|? 25 ?|  20150629|\n",
      "|            -|    RetainedEarnings|          ????????|    2015|00378363|  CFS|20150629000563|    11011|   BS|    ?????|   060310|       3S|-18722327325|? 25 ?|  20150629|\n",
      "|            -|              Equity|                  ????|    2015|00378363|  CFS|20150629000563|    11011|   BS|    ?????|   060310|       3S| 37939808456|? 25 ?|  20150629|\n",
      "|            -|         CIS_Revenue|                ?????|    2015|00378363|  CFS|20150629000563|    11011|  CIS|???????|   060310|       3S| 23210541648|? 25 ?|  20150629|\n",
      "|            -|     CIS_CostOfSales|                  ????|    2015|00378363|  CFS|20150629000563|    11011|  CIS|???????|   060310|       3S| 21575531061|? 25 ?|  20150629|\n",
      "|            -|CIS_TotalSellingG...|            ???????|    2015|00378363|  CFS|20150629000563|    11011|  CIS|???????|   060310|       3S|  5792999908|? 25 ?|  20150629|\n",
      "|            -|CIS_OperatingInco...|              ??????|    2015|00378363|  CFS|20150629000563|    11011|  CIS|???????|   060310|       3S| -4157989321|? 25 ?|  20150629|\n",
      "|            -|   CIS_FinanceIncome|                  ????|    2015|00378363|  CFS|20150629000563|    11011|  CIS|???????|   060310|       3S|    64290019|? 25 ?|  20150629|\n",
      "|            -|    CIS_FinanceCosts|                  ????|    2015|00378363|  CFS|20150629000563|    11011|  CIS|???????|   060310|       3S|  1461428398|? 25 ?|  20150629|\n",
      "|            -|CIS_ProfitLossBef...|?????????????|    2015|00378363|  CFS|20150629000563|    11011|  CIS|???????|   060310|       3S| -5730613297|? 25 ?|  20150629|\n",
      "|            -|      CIS_ProfitLoss|            ???????|    2015|00378363|  CFS|20150629000563|    11011|  CIS|???????|   060310|       3S| -5599032927|? 25 ?|  20150629|\n",
      "+-------------+--------------------+--------------------------+--------+--------+-----+--------------+---------+-----+--------------+---------+---------+------------+--------+----------+\n",
      "only showing top 20 rows\n",
      "\n"
     ]
    }
   ],
   "source": [
    "df.show()"
   ]
  },
  {
   "cell_type": "code",
   "execution_count": null,
   "metadata": {},
   "outputs": [],
   "source": [
    "val datePeriod = udf((x: String, y: String) => {\n",
    "    val dateFormat = DateTimeFormatter.ofPattern(\"yyyyMMdd\")\n",
    "    DAYS.between(LocalDate.parse(x, dateFormat), LocalDate.parse(y, dateFormat)).toDouble / 365.0\n",
    "})\n",
    "\n",
    "val reprtCodeToQuarter = udf((x: String) => {\n",
    "    x match {\n",
    "        case \"11011\" => \"4\"\n",
    "        case \"11013\" => \"1\"\n",
    "        case \"11012\" => \"2\"\n",
    "        case \"11014\" => \"3\"\n",
    "        case _ => \"\"\n",
    "    }\n",
    "})\n",
    "\n",
    "val dateToQuarter = udf((x: String) => {\n",
    "    import scala.math._\n",
    "    ceil(x.toDouble / 3.0).toInt.toString\n",
    "})\n",
    "\n",
    "val partition = Window.partitionBy(\"stockCode\").orderBy(\"bsnsYear\", \"rceptNo\")\n",
    "val dsr_partition = Window.partitionBy(\"bsnsYear\", \"rceptNo\").orderBy(\"bsnsYear\", \"rceptNo\")\n",
    "val ff = partition.rowsBetween(Window.unboundedPreceding, 0) #윈도우에서 표현할 수 있는 가장 작은 수부터 0까지.  \n",
    "val w_5 = partition.rowsBetween(-5, 0) # 내 현재 시점부터 과거 5칸을 그룹"
   ]
  },
  {
   "cell_type": "code",
   "execution_count": null,
   "metadata": {},
   "outputs": [],
   "source": [
    "val cfs = (\n",
    "    df\n",
    "    .where(col(\"fsDiv\") === \"CFS\")\n",
    "    .select(\n",
    "        \"accountId\", \"thstrmAmount\", \"rceptNo\", \"reprtCode\", \"bsnsYear\", \"corpCode\", \n",
    "        \"stockName\", \"stockCode\", \"fsDiv\"\n",
    "        )\n",
    "    .groupBy(\n",
    "        \"rceptNo\", \"reprtCode\", \"bsnsYear\", \"corpCode\", \n",
    "        \"stockName\", \"stockCode\", \"fsDiv\"\n",
    "        )\n",
    "    .pivot(\"accountId\").agg(sum(\"thstrmAmount\"))\n",
    "    .drop(\"fsDiv\")\n",
    "    .withColumn(\"updateDate\", substring(col(\"rceptNo\"), 1, 8))\n",
    "    .withColumn(\"quarter\", reprtCodeToQuarter(col(\"reprtCode\")))\n",
    "    .orderBy(col(\"rceptNo\"))\n",
    "    .withColumnRenamed(\"AccumulatedDepreciation\", \"CFS_AccumulatedDepreciation\")\n",
    "    .withColumnRenamed(\"AdjustmentsForInterestExpenses\", \"CFS_AdjustmentsForInterestExpenses\")\n",
    "    .withColumnRenamed(\"AllowanceForDoubtfulAcccount\", \"CFS_AllowanceForDoubtfulAcccount\")\n",
    "    .withColumnRenamed(\"Assets\", \"CFS_Assets\")\n",
    "    .withColumnRenamed(\"CIS_CostOfSales\", \"CFS_CIS_CostOfSales\")\n",
    "    .withColumnRenamed(\"CIS_OperatingIncomeLoss\", \"CFS_CIS_OperatingIncomeLoss\")\n",
    "    .withColumnRenamed(\"CIS_ProfitLoss\", \"CFS_CIS_ProfitLoss\")\n",
    "    .withColumnRenamed(\"CIS_ProfitLossBeforeTax\", \"CFS_CIS_ProfitLossBeforeTax\")\n",
    "    .withColumnRenamed(\"CIS_Revenue\", \"CFS_CIS_Revenue\")\n",
    "    .withColumnRenamed(\"CashAndCashEquivalents\", \"CFS_CashAndCashEquivalents\")\n",
    "    .withColumnRenamed(\"CashFlowsFromUsedInOperatingActivities\", \"CFS_CashFlowsFromUsedInOperatingActivities\")\n",
    "    .withColumnRenamed(\"CostOfSales\", \"CFS_CostOfSales\")\n",
    "    .withColumnRenamed(\"CurrentAssets\", \"CFS_CurrentAssets\")\n",
    "    .withColumnRenamed(\"CurrentLiabilities\", \"CFS_CurrentLiabilities\")\n",
    "    .withColumnRenamed(\"Equity\", \"CFS_Equity\")\n",
    "    .withColumnRenamed(\"IntangibleAssetsOtherThanGoodwill\", \"CFS_IntangibleAssetsOtherThanGoodwill\")\n",
    "    .withColumnRenamed(\"InterestPaid\", \"CFS_InterestPaid\")\n",
    "    .withColumnRenamed(\"Inventories\", \"CFS_Inventories\")\n",
    "    .withColumnRenamed(\"IssuedCapital\", \"CFS_IssuedCapital\")\n",
    "    .withColumnRenamed(\"Liabilities\", \"CFS_Liabilities\")\n",
    "    .withColumnRenamed(\"NoncontrollingInterests\", \"CFS_NoncontrollingInterests\")\n",
    "    .withColumnRenamed(\"NoncurrentAssets\", \"CFS_NoncurrentAssets\")\n",
    "    .withColumnRenamed(\"OperatingIncomeLoss\", \"CFS_OperatingIncomeLoss\")\n",
    "    .withColumnRenamed(\"OtherComprehensiveIncome\", \"CFS_OtherComprehensiveIncome\")\n",
    "    .withColumnRenamed(\"ProfitLoss\", \"CFS_ProfitLoss\")\n",
    "    .withColumnRenamed(\"ProfitLossBeforeTax\", \"CFS_ProfitLossBeforeTax\")\n",
    "    .withColumnRenamed(\"PropertyPlantAndEquipment\", \"CFS_PropertyPlantAndEquipment\")\n",
    "    .withColumnRenamed(\"RetainedEarnings\", \"CFS_RetainedEarnings\")\n",
    "    .withColumnRenamed(\"Revenue\", \"CFS_Revenue\")\n",
    "    .withColumnRenamed(\"ShortTermTradePayables\", \"CFS_ShortTermTradePayables\")\n",
    "    .withColumnRenamed(\"ShortTermTradeReceivable\", \"CFS_ShortTermTradeReceivable\")\n",
    "    \n",
    "    .withColumnRenamed(\"CIS_FinanceIncome\", \"CFS_CIS_FinanceIncome\")\n",
    "    .withColumnRenamed(\"CIS_FinanceCosts\", \"CFS_CIS_FinanceCosts\")\n",
    "    .withColumnRenamed(\"CIS_TotalSellingGeneralAdministrativeExpenses\", \"CFS_CIS_TotalSellingGeneralAdministrativeExpenses\")\n",
    "    .withColumnRenamed(\"ShortTermOtherPayables\", \"CFS_ShortTermOtherPayables\")\n",
    "    .withColumnRenamed(\"ShorttermBorrowings\", \"CFS_ShorttermBorrowings\")    \n",
    "    .withColumnRenamed(\"FinanceIncome\", \"CFS_FinanceIncome\")\n",
    "    .withColumnRenamed(\"FinanceCosts\", \"CFS_FinanceCosts\")    \n",
    "    .withColumnRenamed(\"TotalSellingGeneralAdministrativeExpenses\", \"CFS_TotalSellingGeneralAdministrativeExpenses\")\n",
    "    .withColumnRenamed(\"RepaymentsOfBorrowingsClassifiedAsFinancingActivities\", \"CFS_RepaymentsOfBorrowingsClassifiedAsFinancingActivities\")    \n",
    "    .withColumnRenamed(\"PurchaseOfPropertyPlantAndEquipmentClassifiedAsInvestingActivities\", \"CFS_PurchaseOfPropertyPlantAndEquipmentClassifiedAsInvestingActivities\")\n",
    "    .withColumnRenamed(\"ProceedsFromSalesOfPropertyPlantAndEquipmentClassifiedAsInvestingActivities\", \"CFS_ProceedsFromSalesOfPropertyPlantAndEquipmentClassifiedAsInvestingActivities\")\n",
    "    .withColumnRenamed(\"CurrentProvisions\", \"CFS_CurrentProvisions\")\n",
    "    ).cache()\n",
    "\n",
    "val ofs = (\n",
    "    df\n",
    "    .where(col(\"fsDiv\") === \"OFS\")\n",
    "    .select(\n",
    "        \"accountId\", \"thstrmAmount\", \"rceptNo\", \"reprtCode\", \"bsnsYear\", \"corpCode\", \n",
    "        \"stockName\", \"stockCode\", \"fsDiv\"\n",
    "        )\n",
    "    .groupBy(\n",
    "        \"rceptNo\", \"reprtCode\", \"bsnsYear\", \"corpCode\", \n",
    "        \"stockName\", \"stockCode\", \"fsDiv\"\n",
    "        )\n",
    "    .pivot(\"accountId\").agg(sum(\"thstrmAmount\"))\n",
    "    .drop(\"fsDiv\")\n",
    "    .withColumn(\"updateDate\", substring(col(\"rceptNo\"), 1, 8))\n",
    "    .withColumn(\"quarter\", reprtCodeToQuarter(col(\"reprtCode\")))\n",
    "    .orderBy(col(\"rceptNo\"))\n",
    "    .withColumnRenamed(\"AccumulatedDepreciation\", \"OFS_AccumulatedDepreciation\")\n",
    "    .withColumnRenamed(\"AdjustmentsForInterestExpenses\", \"OFS_AdjustmentsForInterestExpenses\")\n",
    "    .withColumnRenamed(\"AllowanceForDoubtfulAcccount\", \"OFS_AllowanceForDoubtfulAcccount\")\n",
    "    .withColumnRenamed(\"Assets\", \"OFS_Assets\")\n",
    "    .withColumnRenamed(\"CIS_CostOfSales\", \"OFS_CIS_CostOfSales\")\n",
    "    .withColumnRenamed(\"CIS_OperatingIncomeLoss\", \"OFS_CIS_OperatingIncomeLoss\")\n",
    "    .withColumnRenamed(\"CIS_ProfitLoss\", \"OFS_CIS_ProfitLoss\")\n",
    "    .withColumnRenamed(\"CIS_ProfitLossBeforeTax\", \"OFS_CIS_ProfitLossBeforeTax\")\n",
    "    .withColumnRenamed(\"CIS_Revenue\", \"OFS_CIS_Revenue\")\n",
    "    .withColumnRenamed(\"CashAndCashEquivalents\", \"OFS_CashAndCashEquivalents\")\n",
    "    .withColumnRenamed(\"CashFlowsFromUsedInOperatingActivities\", \"OFS_CashFlowsFromUsedInOperatingActivities\")\n",
    "    .withColumnRenamed(\"CostOfSales\", \"OFS_CostOfSales\")\n",
    "    .withColumnRenamed(\"CurrentAssets\", \"OFS_CurrentAssets\")\n",
    "    .withColumnRenamed(\"CurrentLiabilities\", \"OFS_CurrentLiabilities\")\n",
    "    .withColumnRenamed(\"Equity\", \"OFS_Equity\")\n",
    "    .withColumnRenamed(\"IntangibleAssetsOtherThanGoodwill\", \"OFS_IntangibleAssetsOtherThanGoodwill\")\n",
    "    .withColumnRenamed(\"InterestPaid\", \"OFS_InterestPaid\")\n",
    "    .withColumnRenamed(\"Inventories\", \"OFS_Inventories\")\n",
    "    .withColumnRenamed(\"IssuedCapital\", \"OFS_IssuedCapital\")\n",
    "    .withColumnRenamed(\"Liabilities\", \"OFS_Liabilities\")\n",
    "    .withColumnRenamed(\"NoncontrollingInterests\", \"OFS_NoncontrollingInterests\")\n",
    "    .withColumnRenamed(\"NoncurrentAssets\", \"OFS_NoncurrentAssets\")\n",
    "    .withColumnRenamed(\"OperatingIncomeLoss\", \"OFS_OperatingIncomeLoss\")\n",
    "    .withColumnRenamed(\"OtherComprehensiveIncome\", \"OFS_OtherComprehensiveIncome\")\n",
    "    .withColumnRenamed(\"ProfitLoss\", \"OFS_ProfitLoss\")\n",
    "    .withColumnRenamed(\"ProfitLossBeforeTax\", \"OFS_ProfitLossBeforeTax\")\n",
    "    .withColumnRenamed(\"PropertyPlantAndEquipment\", \"OFS_PropertyPlantAndEquipment\")\n",
    "    .withColumnRenamed(\"RetainedEarnings\", \"OFS_RetainedEarnings\")\n",
    "    .withColumnRenamed(\"Revenue\", \"OFS_Revenue\")\n",
    "    .withColumnRenamed(\"ShortTermTradePayables\", \"OFS_ShortTermTradePayables\")\n",
    "    .withColumnRenamed(\"ShortTermTradeReceivable\", \"OFS_ShortTermTradeReceivable\")\n",
    "    \n",
    "    .withColumnRenamed(\"CIS_FinanceIncome\", \"OFS_CIS_FinanceIncome\")\n",
    "    .withColumnRenamed(\"CIS_FinanceCosts\", \"OFS_CIS_FinanceCosts\")\n",
    "    .withColumnRenamed(\"CIS_TotalSellingGeneralAdministrativeExpenses\", \"OFS_CIS_TotalSellingGeneralAdministrativeExpenses\")\n",
    "    .withColumnRenamed(\"ShortTermOtherPayables\", \"OFS_ShortTermOtherPayables\")\n",
    "    .withColumnRenamed(\"ShorttermBorrowings\", \"OFS_ShorttermBorrowings\")\n",
    "    .withColumnRenamed(\"FinanceIncome\", \"OFS_FinanceIncome\")\n",
    "    .withColumnRenamed(\"FinanceCosts\", \"OFS_FinanceCosts\")\n",
    "    .withColumnRenamed(\"TotalSellingGeneralAdministrativeExpenses\", \"OFS_TotalSellingGeneralAdministrativeExpenses\")\n",
    "    .withColumnRenamed(\"RepaymentsOfBorrowingsClassifiedAsFinancingActivities\", \"OFS_RepaymentsOfBorrowingsClassifiedAsFinancingActivities\")\n",
    "    .withColumnRenamed(\"PurchaseOfPropertyPlantAndEquipmentClassifiedAsInvestingActivities\", \"OFS_PurchaseOfPropertyPlantAndEquipmentClassifiedAsInvestingActivities\")\n",
    "    .withColumnRenamed(\"ProceedsFromSalesOfPropertyPlantAndEquipmentClassifiedAsInvestingActivities\", \"OFS_ProceedsFromSalesOfPropertyPlantAndEquipmentClassifiedAsInvestingActivities\")\n",
    "    .withColumnRenamed(\"CurrentProvisions\", \"OFS_CurrentProvisions\")\n",
    ").cache()"
   ]
  },
  {
   "cell_type": "code",
   "execution_count": null,
   "metadata": {},
   "outputs": [],
   "source": [
    "val temp_df = (\n",
    "    cfs\n",
    "    .join(ofs, Seq(\"rceptNo\", \"reprtCode\", \"bsnsYear\", \"corpCode\", \"stockName\", \"stockCode\", \"updateDate\", \"quarter\"), \"left\")\n",
    "    )"
   ]
  },
  {
   "cell_type": "code",
   "execution_count": null,
   "metadata": {},
   "outputs": [],
   "source": [
    "temp_df.where(col(\"updateDate\") === \"20230814\").repartition(1).write.option(\"header\",\"true\").csv(\"s3a://available-raw/FS_RAW_20230814_2.csv\")"
   ]
  },
  {
   "cell_type": "code",
   "execution_count": null,
   "metadata": {},
   "outputs": [],
   "source": [
    "val reportPrepare = udf((cfs: Long, ofs: Long) => {      #long type // udf는 user defined function\n",
    "    def checkValue[T](v: T): Option[Long] = v match {\n",
    "        case i: Long => Some(i)\n",
    "        case _ => None\n",
    "    }\n",
    "    val v = (checkValue(cfs), checkValue(ofs))\n",
    "\n",
    "    v match {\n",
    "        case (None, _) => v._2.get\n",
    "        case (_, None) => v._1.get\n",
    "        case (_, _) => {\n",
    "            v match {\n",
    "                case (_, Some(0)) => v._1.get\n",
    "                case (Some(0), _) => v._2.get\n",
    "                case (_, _) => v._2.get.max(v._1.get)\n",
    "            }\n",
    "        }\n",
    "    }\n",
    "})\n",
    "\n"
   ]
  },
  {
   "cell_type": "code",
   "execution_count": null,
   "metadata": {},
   "outputs": [],
   "source": [
    "val prepare_df = (\n",
    "    temp_df\n",
    "    .withColumn(\"AccumulatedDepreciation\", reportPrepare(col(\"CFS_AccumulatedDepreciation\"), col(\"OFS_AccumulatedDepreciation\")))\n",
    "    .withColumn(\"AdjustmentsForInterestExpenses\", reportPrepare(col(\"CFS_AdjustmentsForInterestExpenses\"), col(\"OFS_AdjustmentsForInterestExpenses\")))\n",
    "    .withColumn(\"AllowanceForDoubtfulAcccount\", reportPrepare(col(\"CFS_AllowanceForDoubtfulAcccount\"), col(\"OFS_AllowanceForDoubtfulAcccount\")))\n",
    "    .withColumn(\"Assets\", reportPrepare(col(\"CFS_Assets\"), col(\"OFS_Assets\")))\n",
    "    .withColumn(\"CIS_CostOfSales\", reportPrepare(col(\"CFS_CIS_CostOfSales\"), col(\"OFS_CIS_CostOfSales\")))\n",
    "    .withColumn(\"CIS_OperatingIncomeLoss\", reportPrepare(col(\"CFS_CIS_OperatingIncomeLoss\"), col(\"OFS_CIS_OperatingIncomeLoss\")))\n",
    "    .withColumn(\"CIS_ProfitLoss\", reportPrepare(col(\"CFS_CIS_ProfitLoss\"), col(\"OFS_CIS_ProfitLoss\")))\n",
    "    .withColumn(\"CIS_ProfitLossBeforeTax\", reportPrepare(col(\"CFS_CIS_ProfitLossBeforeTax\"), col(\"OFS_CIS_ProfitLossBeforeTax\")))\n",
    "    .withColumn(\"CIS_Revenue\", reportPrepare(col(\"CFS_CIS_Revenue\"), col(\"OFS_CIS_Revenue\")))\n",
    "    .withColumn(\"CashAndCashEquivalents\", reportPrepare(col(\"CFS_CashAndCashEquivalents\"), col(\"OFS_CashAndCashEquivalents\")))\n",
    "    .withColumn(\"CashFlowsFromUsedInOperatingActivities\", reportPrepare(col(\"CFS_CashFlowsFromUsedInOperatingActivities\"), col(\"OFS_CashFlowsFromUsedInOperatingActivities\")))\n",
    "    .withColumn(\"CostOfSales\", reportPrepare(col(\"CFS_CostOfSales\"), col(\"OFS_CostOfSales\")))\n",
    "    .withColumn(\"CurrentAssets\", reportPrepare(col(\"CFS_CurrentAssets\"), col(\"OFS_CurrentAssets\")))\n",
    "    .withColumn(\"CurrentLiabilities\", reportPrepare(col(\"CFS_CurrentLiabilities\"), col(\"OFS_CurrentLiabilities\")))\n",
    "    .withColumn(\"Equity\", reportPrepare(col(\"CFS_Equity\"), col(\"OFS_Equity\")))\n",
    "    .withColumn(\"IntangibleAssetsOtherThanGoodwill\", reportPrepare(col(\"CFS_IntangibleAssetsOtherThanGoodwill\"), col(\"OFS_IntangibleAssetsOtherThanGoodwill\")))\n",
    "    .withColumn(\"InterestPaid\", reportPrepare(col(\"CFS_InterestPaid\"), col(\"OFS_InterestPaid\")))\n",
    "    .withColumn(\"Inventories\", reportPrepare(col(\"CFS_Inventories\"), col(\"OFS_Inventories\")))\n",
    "    .withColumn(\"IssuedCapital\", reportPrepare(col(\"CFS_IssuedCapital\"), col(\"OFS_IssuedCapital\")))\n",
    "    .withColumn(\"Liabilities\", reportPrepare(col(\"CFS_Liabilities\"), col(\"OFS_Liabilities\")))\n",
    "    .withColumn(\"NoncontrollingInterests\", reportPrepare(col(\"CFS_NoncontrollingInterests\"), col(\"OFS_NoncontrollingInterests\")))\n",
    "    .withColumn(\"NoncurrentAssets\", reportPrepare(col(\"CFS_NoncurrentAssets\"), col(\"OFS_NoncurrentAssets\")))\n",
    "    .withColumn(\"OperatingIncomeLoss\", reportPrepare(col(\"CFS_OperatingIncomeLoss\"), col(\"OFS_OperatingIncomeLoss\")))\n",
    "    .withColumn(\"OtherComprehensiveIncome\", reportPrepare(col(\"CFS_OtherComprehensiveIncome\"), col(\"OFS_OtherComprehensiveIncome\")))\n",
    "    .withColumn(\"ProfitLoss\", reportPrepare(col(\"CFS_ProfitLoss\"), col(\"OFS_ProfitLoss\")))\n",
    "    .withColumn(\"ProfitLossBeforeTax\", reportPrepare(col(\"CFS_ProfitLossBeforeTax\"), col(\"OFS_ProfitLossBeforeTax\")))\n",
    "    .withColumn(\"PropertyPlantAndEquipment\", reportPrepare(col(\"CFS_PropertyPlantAndEquipment\"), col(\"OFS_PropertyPlantAndEquipment\")))\n",
    "    .withColumn(\"RetainedEarnings\", reportPrepare(col(\"CFS_RetainedEarnings\"), col(\"OFS_RetainedEarnings\")))\n",
    "    .withColumn(\"Revenue\", reportPrepare(col(\"CFS_Revenue\"), col(\"OFS_Revenue\")))\n",
    "    .withColumn(\"ShortTermTradePayables\", reportPrepare(col(\"CFS_ShortTermTradePayables\"), col(\"OFS_ShortTermTradePayables\")))\n",
    "    .withColumn(\"ShortTermTradeReceivable\", reportPrepare(col(\"CFS_ShortTermTradeReceivable\"), col(\"OFS_ShortTermTradeReceivable\")))\n",
    "    \n",
    "    .withColumn(\"CIS_FinanceIncome\", reportPrepare(col(\"CFS_CIS_FinanceIncome\"), col(\"OFS_CIS_FinanceIncome\")))\n",
    "    .withColumn(\"CIS_FinanceCosts\", reportPrepare(col(\"CFS_CIS_FinanceCosts\"), col(\"OFS_CIS_FinanceCosts\")))\n",
    "    .withColumn(\"CIS_TotalSellingGeneralAdministrativeExpenses\", reportPrepare(col(\"CFS_CIS_TotalSellingGeneralAdministrativeExpenses\"), col(\"OFS_CIS_TotalSellingGeneralAdministrativeExpenses\")))\n",
    "    .withColumn(\"ShortTermOtherPayables\", reportPrepare(col(\"CFS_ShortTermOtherPayables\"), col(\"OFS_ShortTermOtherPayables\")))\n",
    "    .withColumn(\"ShorttermBorrowings\", reportPrepare(col(\"CFS_ShorttermBorrowings\"), col(\"OFS_ShorttermBorrowings\")))\n",
    "    .withColumn(\"FinanceIncome\", reportPrepare(col(\"CFS_FinanceIncome\"), col(\"OFS_FinanceIncome\")))\n",
    "    .withColumn(\"FinanceCosts\", reportPrepare(col(\"CFS_FinanceCosts\"), col(\"OFS_FinanceCosts\")))\n",
    "    .withColumn(\"TotalSellingGeneralAdministrativeExpenses\", reportPrepare(col(\"CFS_TotalSellingGeneralAdministrativeExpenses\"), col(\"OFS_TotalSellingGeneralAdministrativeExpenses\")))\n",
    "    .withColumn(\"RepaymentsOfBorrowingsClassifiedAsFinancingActivities\", reportPrepare(col(\"CFS_RepaymentsOfBorrowingsClassifiedAsFinancingActivities\"), col(\"OFS_RepaymentsOfBorrowingsClassifiedAsFinancingActivities\")))\n",
    "    .withColumn(\"PurchaseOfPropertyPlantAndEquipmentClassifiedAsInvestingActivities\", reportPrepare(col(\"CFS_PurchaseOfPropertyPlantAndEquipmentClassifiedAsInvestingActivities\"), col(\"OFS_PurchaseOfPropertyPlantAndEquipmentClassifiedAsInvestingActivities\")))\n",
    "    .withColumn(\"ProceedsFromSalesOfPropertyPlantAndEquipmentClassifiedAsInvestingActivities\", reportPrepare(col(\"CFS_ProceedsFromSalesOfPropertyPlantAndEquipmentClassifiedAsInvestingActivities\"), col(\"OFS_ProceedsFromSalesOfPropertyPlantAndEquipmentClassifiedAsInvestingActivities\")))\n",
    "    .withColumn(\"CurrentProvisions\", reportPrepare(col(\"CFS_CurrentProvisions\"), col(\"OFS_CurrentProvisions\")))\n",
    "\n",
    "    .select(\n",
    "        \"rceptNo\", \"reprtCode\", \"bsnsYear\", \"corpCode\", \"stockName\", \"stockCode\", \"updateDate\", \"quarter\",\n",
    "        \"AccumulatedDepreciation\", \"AdjustmentsForInterestExpenses\", \"AllowanceForDoubtfulAcccount\", \"Assets\", \n",
    "        \"CIS_CostOfSales\", \"CIS_OperatingIncomeLoss\", \"CIS_ProfitLoss\", \"CIS_ProfitLossBeforeTax\", \"CIS_Revenue\", \n",
    "        \"CashAndCashEquivalents\", \"CashFlowsFromUsedInOperatingActivities\", \"CostOfSales\", \"CurrentAssets\", \n",
    "        \"CurrentLiabilities\", \"Equity\", \"IntangibleAssetsOtherThanGoodwill\", \"InterestPaid\", \"Inventories\", \n",
    "        \"IssuedCapital\", \"Liabilities\", \"NoncontrollingInterests\", \"NoncurrentAssets\", \"OperatingIncomeLoss\", \n",
    "        \"OtherComprehensiveIncome\", \"ProfitLoss\", \"ProfitLossBeforeTax\", \"PropertyPlantAndEquipment\", \"RetainedEarnings\", \n",
    "        \"Revenue\", \"ShortTermTradePayables\", \"ShortTermTradeReceivable\", \"ShortTermOtherPayables\",\"ShorttermBorrowings\",\n",
    "        \"FinanceIncome\",\"FinanceCosts\",\"TotalSellingGeneralAdministrativeExpenses\",\"RepaymentsOfBorrowingsClassifiedAsFinancingActivities\",\n",
    "        \"PurchaseOfPropertyPlantAndEquipmentClassifiedAsInvestingActivities\",\"ProceedsFromSalesOfPropertyPlantAndEquipmentClassifiedAsInvestingActivities\",\n",
    "        \"CurrentProvisions\",\"CIS_FinanceIncome\",\"CIS_FinanceCosts\",\"CIS_TotalSellingGeneralAdministrativeExpenses\"\n",
    "        )       \n",
    "    )"
   ]
  },
  {
   "cell_type": "code",
   "execution_count": null,
   "metadata": {},
   "outputs": [],
   "source": [
    "val disclosure = (  #불성실공시인 애들. \n",
    "    spark.read.format(\"mongodb\")\n",
    "    .option(\"spark.mongodb.read.connection.uri\", mongoUrl)\n",
    "    .option(\"spark.mongodb.write.connection.uri\", mongoUrl)\n",
    "    .option(\"database\", \"coreEngine\")\n",
    "    .option(\"collection\", \"Disclosure\")\n",
    "    .load()\n",
    "    .drop(\"_id\")\n",
    "    .select(\"disclosureTime\", \"reason\", \"stockCode\")\n",
    "    .where(!regexp_replace(col(\"reason\"), \" \", \"\").like(\"%해소%\"))\n",
    "    .where(!regexp_replace(col(\"reason\"), \" \", \"\").like(\"%해제%\"))\n",
    "    .withColumn(\"disclosureTime\", substring(regexp_replace(col(\"disclosureTime\"), \"-\", \"\"), 1, 8))\n",
    "    .withColumn(\"bsnsYear\", substring(col(\"disclosureTime\"), 1, 4))\n",
    "    .withColumn(\"quarter\", dateToQuarter(substring(col(\"disclosureTime\"), 5, 2)))\n",
    "    .withColumn(\"event\", lit(1))\n",
    "    .drop(\"reason\", \"disclosureTime\")\n",
    "    distinct()\n",
    "    )"
   ]
  },
  {
   "cell_type": "code",
   "execution_count": null,
   "metadata": {},
   "outputs": [],
   "source": [
    "val company = (\n",
    "    spark.read.format(\"mongodb\")\n",
    "    .option(\"spark.mongodb.read.connection.uri\", mongoUrl)\n",
    "    .option(\"spark.mongodb.write.connection.uri\", mongoUrl)\n",
    "    .option(\"database\", \"coreEngine\")\n",
    "    .option(\"collection\", \"CompanyInformation\")\n",
    "    .load()\n",
    "    .drop(\"_id\")\n",
    "    .select(\"stockCode\", \"estDt\", \"corpCls\")   #estDt : 설립일\n",
    "    ).cache()\n",
    "\n",
    "val price = (\n",
    "    spark.read.format(\"mongodb\")\n",
    "    .option(\"spark.mongodb.read.connection.uri\", mongoUrl)\n",
    "    .option(\"spark.mongodb.write.connection.uri\", mongoUrl)\n",
    "    .option(\"database\", \"coreEngine\")\n",
    "    .option(\"collection\", \"Price\")\n",
    "    .load()\n",
    "    .drop(\"_id\")\n",
    "    .select(\"stockCode\", \"marketCap\", \"updateDate\")\n",
    "    ).cache()"
   ]
  },
  {
   "cell_type": "code",
   "execution_count": null,
   "metadata": {},
   "outputs": [],
   "source": [
    "val fs = (\n",
    "    prepare_df\n",
    "    .join(price, Seq(\"stockCode\", \"updateDate\"), \"left\")\n",
    "    .join(company, Seq(\"stockCode\"), \"left\")\n",
    "    .join(disclosure, Seq(\"stockCode\", \"bsnsYear\", \"quarter\"), \"left\")\n",
    "    ).cache()"
   ]
  },
  {
   "cell_type": "code",
   "execution_count": null,
   "metadata": {},
   "outputs": [],
   "source": [
    "val fs_preprocess = (\n",
    "    fs\n",
    "    .withColumn(\"Revenue\", when(col(\"Revenue\").isNull, col(\"CIS_Revenue\")).otherwise(col(\"Revenue\")))\n",
    "    .withColumn(\"CostOfSales\", when(col(\"CostOfSales\").isNull, col(\"CIS_CostOfSales\")).otherwise(col(\"CostOfSales\")))\n",
    "    .withColumn(\"OperatingIncomeLoss\", when(col(\"OperatingIncomeLoss\").isNull, col(\"CIS_OperatingIncomeLoss\")).otherwise(col(\"OperatingIncomeLoss\")))\n",
    "    .withColumn(\"ProfitLoss\", when(col(\"ProfitLoss\").isNull, col(\"CIS_ProfitLoss\")).otherwise(col(\"ProfitLoss\")))\n",
    "    .withColumn(\"ProfitLossBeforeTax\", when(col(\"ProfitLossBeforeTax\").isNull, col(\"CIS_ProfitLossBeforeTax\")).otherwise(col(\"ProfitLossBeforeTax\")))\n",
    "  \n",
    "    .withColumn(\"FinanceIncome\", when(col(\"FinanceIncome\").isNull, col(\"CIS_FinanceIncome\")).otherwise(col(\"FinanceIncome\")))\n",
    "    .withColumn(\"FinanceCosts\", when(col(\"FinanceCosts\").isNull, col(\"CIS_FinanceCosts\")).otherwise(col(\"FinanceCosts\")))\n",
    "    .withColumn(\"TotalSellingGeneralAdministrativeExpenses\", when(col(\"TotalSellingGeneralAdministrativeExpenses\").isNull, col(\"CIS_TotalSellingGeneralAdministrativeExpenses\")).otherwise(col(\"TotalSellingGeneralAdministrativeExpenses\")))\n",
    "  \n",
    "    .drop(\"CIS_Revenue\", \"CIS_CostOfSales\", \"CIS_OperatingIncomeLoss\", \"CIS_ProfitLoss\", \"CIS_ProfitLossBeforeTax\")\n",
    "    .na.fill(0)\n",
    "\n",
    "      # 4분기 공시는 1년치이기 때문에 쪼개는 과정인 것.\n",
    "    \n",
    "    // CashFlowsFromUsedInOperatingActivities\n",
    "    // 영업활동현금흐름 재정의  \n",
    "    .withColumn(\n",
    "        \"CashFlowsFromUsedInOperatingActivities\",\n",
    "        when(\n",
    "            col(\"reprtCode\") === \"11013\",\n",
    "            col(\"CashFlowsFromUsedInOperatingActivities\")\n",
    "            )\n",
    "        .otherwise(\n",
    "            col(\"CashFlowsFromUsedInOperatingActivities\") - \n",
    "            lag(\n",
    "                col(\"CashFlowsFromUsedInOperatingActivities\"), offset=1\n",
    "               )\n",
    "            .over(partition))\n",
    "        )\n",
    "\n",
    "    // CostOfSales\n",
    "    // 매출원가 재정의\n",
    "    .withColumn(\n",
    "        \"CostOfSales\",\n",
    "        when(\n",
    "            col(\"reprtCode\") === \"11011\", col(\"CostOfSales\") - \n",
    "            lag(col(\"CostOfSales\"), offset=1).over(partition) - \n",
    "            lag(col(\"CostOfSales\"), offset=2).over(partition) - \n",
    "            lag(col(\"CostOfSales\"), offset=3).over(partition)\n",
    "            ).otherwise(col(\"CostOfSales\"))\n",
    "        )\n",
    "\n",
    "    // InterestPaid\n",
    "    // 이자지급 재정의\n",
    "    .withColumn(\n",
    "        \"InterestPaid\", \n",
    "        when(col(\"InterestPaid\").isNull, 0).otherwise(col(\"InterestPaid\"))\n",
    "    )\n",
    "    .withColumn(\n",
    "        \"InterestPaid\",\n",
    "        when(\n",
    "            col(\"reprtCode\") !== \"11013\",\n",
    "            lag(col(\"InterestPaid\"), offset=1).over(partition) -\n",
    "            col(\"InterestPaid\")\n",
    "            ).otherwise(col(\"InterestPaid\") * -1)\n",
    "    )\n",
    "\n",
    "    // OperatingIncomeLoss\n",
    "    // 영업이익 재정의\n",
    "    .withColumn(\n",
    "        \"OperatingIncomeLoss\",\n",
    "        when(\n",
    "            col(\"reprtCode\") === \"11011\",\n",
    "            col(\"OperatingIncomeLoss\") -\n",
    "            lag(col(\"OperatingIncomeLoss\"), offset=1).over(partition) -\n",
    "            lag(col(\"OperatingIncomeLoss\"), offset=2).over(partition) -\n",
    "            lag(col(\"OperatingIncomeLoss\"), offset=3).over(partition)\n",
    "            )\n",
    "            .otherwise(col(\"OperatingIncomeLoss\"))\n",
    "        )\n",
    "\n",
    "    // OtherComprehensiveIncome\n",
    "    // 기타포괄손익 재정의\n",
    "    .withColumn(\n",
    "        \"OtherComprehensiveIncome\",\n",
    "        when(\n",
    "            col(\"reprtCode\") === \"11011\",\n",
    "            col(\"OtherComprehensiveIncome\") -\n",
    "            lag(col(\"OtherComprehensiveIncome\"), offset=1).over(partition) -\n",
    "            lag(col(\"OtherComprehensiveIncome\"), offset=2).over(partition) -\n",
    "            lag(col(\"OtherComprehensiveIncome\"), offset=3).over(partition)\n",
    "            )\n",
    "            .otherwise(col(\"OtherComprehensiveIncome\"))\n",
    "        )\n",
    "\n",
    "    // ProfitLoss\n",
    "    // 당기순이익 재정의\n",
    "    .withColumn(\n",
    "        \"ProfitLoss\",\n",
    "        when(\n",
    "            col(\"reprtCode\") === \"11011\",\n",
    "            col(\"ProfitLoss\") -\n",
    "            lag(col(\"ProfitLoss\"), offset=1).over(partition) -\n",
    "            lag(col(\"ProfitLoss\"), offset=2).over(partition) -\n",
    "            lag(col(\"ProfitLoss\"), offset=3).over(partition)\n",
    "            )\n",
    "            .otherwise(col(\"ProfitLoss\"))\n",
    "        )\n",
    "\n",
    "    // ProfitLossBeforeTax\n",
    "    // 법인세비용차감전순이익 재정의\n",
    "    .withColumn(\n",
    "        \"ProfitLossBeforeTax\",\n",
    "        when(\n",
    "            col(\"reprtCode\") === \"11011\",\n",
    "            col(\"ProfitLossBeforeTax\") -\n",
    "            lag(col(\"ProfitLossBeforeTax\"), offset=1).over(partition) -\n",
    "            lag(col(\"ProfitLossBeforeTax\"), offset=2).over(partition) -\n",
    "            lag(col(\"ProfitLossBeforeTax\"), offset=3).over(partition)\n",
    "            )\n",
    "            .otherwise(col(\"ProfitLossBeforeTax\"))\n",
    "        )\n",
    "\n",
    "    // Revenue\n",
    "    // 매출액 재정의 \n",
    "    .withColumn(\n",
    "        \"Revenue\",\n",
    "        when(\n",
    "            col(\"reprtCode\") === \"11011\",\n",
    "            col(\"Revenue\") -\n",
    "            lag(col(\"Revenue\"), offset=1).over(partition) -\n",
    "            lag(col(\"Revenue\"), offset=2).over(partition) -\n",
    "            lag(col(\"Revenue\"), offset=3).over(partition)\n",
    "            )\n",
    "            .otherwise(col(\"Revenue\")) \n",
    "        )\n",
    "\n",
    "    // AdjustmentsForInterestExpenses\n",
    "    // 이자비용 재정의\n",
    "    .withColumn(\n",
    "        \"AdjustmentsForInterestExpenses\",\n",
    "        when(\n",
    "            col(\"reprtCode\") !== \"11013\",\n",
    "            col(\"AdjustmentsForInterestExpenses\") -\n",
    "            lag(col(\"AdjustmentsForInterestExpenses\"), offset=1).over(partition)\n",
    "            )\n",
    "        .otherwise(col(\"AdjustmentsForInterestExpenses\"))\n",
    "        )\n",
    "    \n",
    "    .withColumn(\n",
    "        \"estDt\",\n",
    "        when(\n",
    "            col(\"estDt\")isNull,\n",
    "            min(col(\"updateDate\")).over(Window.partitionBy(\"stockCode\"))\n",
    "            )\n",
    "        .otherwise(col(\"estDt\"))\n",
    "        )\n",
    "    .withColumn(\"period\", datePeriod(col(\"estDt\"), col(\"updateDate\")))\n",
    "    .drop(\"estDt\")\n",
    "    )"
   ]
  },
  {
   "cell_type": "code",
   "execution_count": null,
   "metadata": {},
   "outputs": [],
   "source": [
    "val fs_features = (\n",
    "    fs_preprocess\n",
    "    .withColumn(\"Assets\", last(col(\"Assets\"), true).over(ff))\n",
    "    .withColumn(\"CurrentAssets\", last(col(\"CurrentAssets\"), true).over(ff))\n",
    "    .withColumn(\"ShortTermTradeReceivable\", last(col(\"ShortTermTradeReceivable\"), true).over(ff))\n",
    "    .withColumn(\"NoncurrentAssets\", last(col(\"NoncurrentAssets\"), true).over(ff))\n",
    "    .withColumn(\"Revenue\", last(col(\"Revenue\"), true).over(ff))\n",
    "    .withColumn(\"OperatingIncomeLoss\", last(col(\"OperatingIncomeLoss\"), true).over(ff))\n",
    "    .withColumn(\"ProfitLossBeforeTax\", last(col(\"ProfitLossBeforeTax\"), true).over(ff))\n",
    "    .withColumn(\"ProfitLoss\", last(col(\"ProfitLoss\"), true).over(ff))\n",
    "    .withColumn(\"CashFlowsFromUsedInOperatingActivities\", last(col(\"CashFlowsFromUsedInOperatingActivities\"), true).over(ff))\n",
    "    .withColumn(\"Liabilities\", last(col(\"Liabilities\"), true).over(ff))\n",
    "    .withColumn(\"ShortTermTradePayables\", last(col(\"ShortTermTradePayables\"), true).over(ff))\n",
    "    .withColumn(\"Equity\", last(col(\"Equity\"), true).over(ff))\n",
    "    .withColumn(\"IssuedCapital\", last(col(\"IssuedCapital\"), true).over(ff))\n",
    "    .withColumn(\"RetainedEarnings\", last(col(\"RetainedEarnings\"), true).over(ff))\n",
    "    .withColumn(\"MarketCap\", last(col(\"MarketCap\"), true).over(ff))\n",
    "    .withColumn(\"AdjustmentsForInterestExpenses\", last(col(\"AdjustmentsForInterestExpenses\"), true).over(ff))\n",
    "    .withColumn(\"Inventories\", last(col(\"Inventories\"), true).over(ff))\n",
    "    .withColumn(\"CostOfSales\", last(col(\"CostOfSales\"), true).over(ff))\n",
    "    .withColumn(\"AccumulatedDepreciation\", last(col(\"AccumulatedDepreciation\"), true).over(ff))\n",
    "    .withColumn(\"OtherComprehensiveIncome\", last(col(\"OtherComprehensiveIncome\"), true).over(ff))\n",
    "    .withColumn(\"AllowanceForDoubtfulAcccount\", last(col(\"AllowanceForDoubtfulAcccount\"), true).over(ff))\n",
    "    .withColumn(\"CurrentLiabilities\", last(col(\"CurrentLiabilities\"), true).over(ff))\n",
    "    .withColumn(\"NoncontrollingInterests\", last(col(\"NoncontrollingInterests\"), true).over(ff))\n",
    "    .withColumn(\"InventoriesBefore\", lag(col(\"Inventories\"), offset=1).over(partition))\n",
    "    .withColumn(\"ShortTermTradeReceivableBefore\", lag(col(\"ShortTermTradeReceivable\"), offset=1).over(partition))\n",
    "    .withColumn(\"ShortTermTradePayablesBefore\", lag(col(\"ShortTermTradePayables\"), offset=1).over(partition))\n",
    "    .withColumn(\"InventoriesRateOfIncrease\", (col(\"Inventories\") - col(\"InventoriesBefore\")) / col(\"InventoriesBefore\"))\n",
    "    .withColumn(\"ShortTermTradeReceivableRateOfIncrease\", (col(\"ShortTermTradeReceivable\") - col(\"ShortTermTradeReceivableBefore\")) / col(\"ShortTermTradeReceivableBefore\"))\n",
    "    .withColumn(\"ShortTermTradePayablesRateOfIncrease\", (col(\"ShortTermTradePayables\") - col(\"ShortTermTradePayablesBefore\")) / col(\"ShortTermTradePayablesBefore\"))\n",
    "//     .withColumn(\"FFOEQ\", col(\"CashFlowsFromUsedInOperatingActivities\") / col(\"Equity\"))\n",
    "//     .withColumn(\"FFOTL\", col(\"CashFlowsFromUsedInOperatingActivities\") / col(\"Liabilities\"))\n",
    "//     .withColumn(\"CACL\", col(\"CurrentAssets\") / col(\"CurrentLiabilities\"))\n",
    "//     .withColumn(\"EQTA\", col(\"Equity\") / col(\"Assets\"))\n",
    "//     .withColumn(\"INSL\", col(\"AdjustmentsForInterestExpenses\") / col(\"Revenue\"))\n",
    "//     .withColumn(\"CATA\", col(\"CurrentAssets\") / col(\"Assets\"))\n",
    "//     .withColumn(\"TLTA\", col(\"Liabilities\") / col(\"Assets\"))\n",
    "//     .withColumn(\"INTL\", col(\"AdjustmentsForInterestExpenses\") / col(\"Liabilities\"))\n",
    "//     .withColumn(\"MB\", col(\"MarketCap\") / col(\"Equity\"))\n",
    "//     .withColumn(\"NIGR\", col(\"ProfitLoss\") / lag(col(\"ProfitLoss\"), offset=1).over(partition) - 1)\n",
    "//     .withColumn(\"FAGR\", col(\"NoncurrentAssets\") / lag(col(\"NoncurrentAssets\"), offset=1).over(partition) - 1)\n",
    "//     .withColumn(\"EBTIN\", col(\"ProfitLossBeforeTax\") / col(\"AdjustmentsForInterestExpenses\"))\n",
    "//     .withColumn(\"CLCA\", col(\"CurrentLiabilities\") / col(\"CurrentAssets\"))\n",
    "//     .withColumn(\"NEGBE\", when((col(\"Equity\") - col(\"NoncontrollingInterests\")) < col(\"IssuedCapital\") * 0.75, 1).otherwise(lit(0)))\n",
    "//     .withColumn(\"CLGR\", col(\"CurrentLiabilities\") / lag(col(\"CurrentLiabilities\"), offset=1).over(partition) - 1)\n",
    "     \n",
    "    .withColumn(\"CLTL\", col(\"CurrentLiabilities\") / col(\"Liabilities\"))\n",
    "    .withColumn(\"EBTIN2\", col(\"ProfitLossBeforeTax\") - col(\"AdjustmentsForInterestExpenses\"))\n",
    "    .withColumn(\"INTL2\",  col(\"OperatingIncomeLoss\") - col(\"AdjustmentsForInterestExpenses\") )\n",
    "    .withColumn(\"LNSL\", log(col(\"Revenue\")))\n",
    "    .withColumn(\"LNTA\", log(col(\"Assets\")))\n",
    "    .withColumn(\"MB2\", col(\"MarketCap\") - col(\"Equity\"))\n",
    "    .withColumn(\"NIGR2\", col(\"ProfitLoss\") - lag(col(\"ProfitLoss\"), offset=1).over(partition) )    \n",
    "    .withColumn(\"NISL\", col(\"ProfitLoss\") / col(\"Revenue\"))\n",
    "    .withColumn(\"RETA\", col(\"RetainedEarnings\") / col(\"Assets\"))\n",
    "    .withColumn(\"SLEQ\", col(\"Revenue\") / col(\"Equity\"))\n",
    "    .withColumn(\"SLFA\", col(\"Revenue\") / col(\"NoncurrentAssets\"))\n",
    "    .withColumn(\"TLEQ\", col(\"Liabilities\") / col(\"Equity\"))\n",
    "    \n",
    "    .withColumn(\"DSR01\", col(\"CashAndCashEquivalents\") + col(\"ShortTermTradeReceivable\") \n",
    "                - col(\"ShortTermTradePayables\") - col(\"ShortTermOtherPayables\") - col(\"ShorttermBorrowings\"))    \n",
    "    .withColumn(\"DSR02\", col(\"OperatingIncomeLoss\") + col(\"FinanceIncome\") - col(\"FinanceCosts\") - col(\"CurrentProvisions\"))\n",
    "    .withColumn(\"DSR03\", col(\"CashFlowsFromUsedInOperatingActivities\") - col(\"TotalSellingGeneralAdministrativeExpenses\") \n",
    "                + col(\"RepaymentsOfBorrowingsClassifiedAsFinancingActivities\"))\n",
    "    .withColumn(\"DSR04\", col(\"RetainedEarnings\") + col(\"PurchaseOfPropertyPlantAndEquipmentClassifiedAsInvestingActivities\") \n",
    "                + col(\"ProceedsFromSalesOfPropertyPlantAndEquipmentClassifiedAsInvestingActivities\"))\n",
    "    .withColumn(\"Normalize\", col(\"CashFlowsFromUsedInOperatingActivities\") - col(\"CurrentLiabilities\") + col(\"OperatingIncomeLoss\"))\n",
    "    .withColumn(\"MAX_N\", max(col(\"Normalize\")).over(Window.partitionBy(\"bsnsYear\", \"quarter\")))\n",
    "    .withColumn(\"MIN_N\", min(col(\"Normalize\")).over(Window.partitionBy(\"bsnsYear\", \"quarter\")))\n",
    "    .withColumn(\"DSR05\", (col(\"Normalize\") - col(\"MIN_N\")) / (col(\"MAX_N\")-col(\"MIN_N\")))\n",
    "    .withColumn(\"event\", when(col(\"ProfitLossBeforeTax\") + lag(col(\"ProfitLossBeforeTax\"), offset=1).over(partition)<0, 1).otherwise(col(\"event\")))\n",
    "    .withColumn(\"plbtEvent\", when(col(\"ProfitLossBeforeTax\") + lag(col(\"ProfitLossBeforeTax\"), offset=1).over(partition)<0,1).otherwise(col(\"event\")))\n",
    "    .select(\"updateDate\" ,\"rceptNo\", \"reprtCode\", \"bsnsYear\", \"corpCode\",\n",
    "                                 \"stockName\", \"stockCode\", \"event\", \"plbtEvent\", \"corpCls\", \"period\", \"quarter\",\n",
    "                                 \"DSR01\", \"DSR02\", \"DSR03\", \"DSR04\", \"DSR05\",\n",
    "                                 //\"FFOEQ\", \"FFOTL\", \"CACL\", \"EQTA\", \"INSL\", \"CATA\", \"TLTA\", \"INTL\", \n",
    "                                 //\"MB\", \"NIGR\", \"FAGR\", \"EBTIN\", \"CLCA\", \"NEGBE\", \"CLGR\", \n",
    "                                 \"CLTL\", \"EBTIN2\", \"INTL2\", \"LNSL\", \"LNTA\", \"MB2\", \"NIGR2\", \"NISL\", \"RETA\", \n",
    "                                 \"SLEQ\", \"SLFA\", \"TLEQ\")\n",
    "    .orderBy(\"stockCode\", \"updateDate\", \"reprtCode\")\n",
    "    )"
   ]
  },
  {
   "cell_type": "code",
   "execution_count": null,
   "metadata": {},
   "outputs": [],
   "source": [
    "fs_features.show()"
   ]
  },
  {
   "cell_type": "code",
   "execution_count": null,
   "metadata": {},
   "outputs": [],
   "source": [
    "\"\"\"\n",
    "val saveDf=(\n",
    "    fs_features\n",
    "    .where(col(\"updateDate\") > \"20230530\")\n",
    "    .write.format(\"mongodb\")\n",
    "    .mode(\"append\")\n",
    "    .option(\"spark.mongodb.read.connection.uri\", mongoUrl)\n",
    "    .option(\"spark.mongodb.write.connection.uri\", mongoUrl)\n",
    "    .option(\"database\", \"coreEngine\")\n",
    "    .option(\"collection\", \"ReportFeatures\")\n",
    "    .save()\n",
    "    )\"\"\""
   ]
  },
  {
   "cell_type": "code",
   "execution_count": null,
   "metadata": {},
   "outputs": [],
   "source": [
    "spark.stop()"
   ]
  }
 ],
 "metadata": {
  "kernelspec": {
   "display_name": "Spark",
   "language": "scala",
   "name": "sparkkernel"
  },
  "language_info": {
   "codemirror_mode": "text/x-scala",
   "file_extension": ".sc",
   "mimetype": "text/x-scala",
   "name": "scala",
   "pygments_lexer": "scala"
  }
 },
 "nbformat": 4,
 "nbformat_minor": 4
}
