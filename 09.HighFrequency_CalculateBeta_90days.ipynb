{
 "cells": [
  {
   "cell_type": "code",
   "execution_count": null,
   "metadata": {},
   "outputs": [],
   "source": [
    "import org.apache.spark.sql.functions._\n",
    "import org.apache.spark.sql.expressions._\n",
    "import scala.util.{Failure, Success, Try}\n",
    "import org.apache.spark.sql.types._\n",
    "import org.apache.spark.sql.SparkSession"
   ]
  },
  {
   "cell_type": "code",
   "execution_count": null,
   "metadata": {},
   "outputs": [],
   "source": [
    "val spark = (\n",
    "    SparkSession\n",
    "    .builder()\n",
    "    .appName(\"Beta90D\")\n",
    "    .config(\"spark.cores.max\", 4)\n",
    "    .config(\"spark.executor.cores\", 4)\n",
    "    .config(\"spark.executor.memory\", \"36g\")\n",
    "    .getOrCreate()\n",
    "    )\n",
    "    \n",
    "val csv_options = Map(\"header\" -> \"true\")"
   ]
  },
  {
   "cell_type": "code",
   "execution_count": null,
   "metadata": {},
   "outputs": [],
   "source": [
    "val mongoUrl = \"mongodb+srv://xxxxxxxxxxxxxxxxxxxxxx/\"\n",
    "\n",
    "val stockPrice = (\n",
    "    spark.read.format(\"mongodb\")\n",
    "    .option(\"spark.mongodb.read.connection.uri\", mongoUrl)\n",
    "    .option(\"spark.mongodb.write.connection.uri\", mongoUrl)\n",
    "    .option(\"database\", \"coreEngine\")\n",
    "    .option(\"aggregation.pipeline\", \"{ $match: { updateDate: { $gte: '20230101'} } }\")\n",
    "    .option(\"collection\", \"Price\").load()\n",
    "    .withColumn(\"closingPrice\",col(\"closingPrice\").cast(IntegerType))\n",
    "    .withColumn(\"market\", when(col(\"classify\") === \"KOSDAQ\", 0).otherwise(1))\n",
    "    .select(\"stockCode\", \"stockFullName\", \"market\", \"closingPrice\", \"updateDate\")\n",
    "    )"
   ]
  },
  {
   "cell_type": "code",
   "execution_count": null,
   "metadata": {},
   "outputs": [],
   "source": [
    "val indexPrice = (\n",
    "    spark.read.format(\"mongodb\")\n",
    "    .option(\"spark.mongodb.read.connection.uri\", mongoUrl)\n",
    "    .option(\"spark.mongodb.write.connection.uri\", mongoUrl)\n",
    "    .option(\"database\", \"coreEngine\")\n",
    "    .option(\"collection\", \"IndexPrice\").load()\n",
    "    .where(col(\"idxNm\") === \"코스닥지수\" or col(\"idxNm\") === \"코스피\")\n",
    "    .withColumn(\"clsprcIdx\",col(\"clsprcIdx\").cast(FloatType))\n",
    "    .withColumn(\"market\", when(col(\"market\") === \"03\", 0).otherwise(1))\n",
    "    .select(\"clsprcIdx\", \"market\", \"updateDate\")\n",
    "    )"
   ]
  },
  {
   "cell_type": "code",
   "execution_count": null,
   "metadata": {},
   "outputs": [],
   "source": [
    "val partition = Window.partitionBy(\"stockCode\").orderBy(\"updateDate\")\n",
    "val w_90 = partition.rowsBetween(-90, 0)\n",
    "\n",
    "val beta = (\n",
    "    indexPrice.join(stockPrice, Seq(\"updateDate\", \"market\"), \"left\")\n",
    "    .withColumn(\"updateDateTimestamp\", to_timestamp(col(\"updateDate\"), \"yyyyMMdd\"))\n",
    "    .withColumn(\"weekOfYear\", weekofyear(col(\"updateDateTimestamp\")))\n",
    "    .withColumn(\"weekOfDay\", dayofweek(col(\"updateDateTimestamp\")))\n",
    "    .withColumn(\"year\", year(col(\"updateDateTimestamp\")))\n",
    "    .withColumn(\"clsprcIdxLag\", lag(col(\"clsprcIdx\"), 1).over(partition))\n",
    "    .withColumn(\"closingPriceLag\", lag(col(\"closingPrice\"), 1).over(partition))\n",
    "    .withColumn(\"clsprcIdxReturn\", (col(\"clsprcIdx\") - col(\"clsprcIdxLag\")) / col(\"clsprcIdxLag\"))\n",
    "    .withColumn(\"closingPriceReturn\", (col(\"closingPrice\") - col(\"closingPriceLag\")) / col(\"closingPriceLag\"))\n",
    "    .where(col(\"clsprcIdxReturn\").isNotNull)\n",
    "    .withColumn(\"idxVariance\", var_samp(col(\"clsprcIdxReturn\")).over(w_90))\n",
    "    .withColumn(\"varSamp\", var_samp(col(\"clsprcIdxReturn\")).over(w_90))\n",
    "    .withColumn(\"idxStockVariance\", covar_pop(col(\"closingPriceReturn\"), col(\"clsprcIdxReturn\")).over(w_90))\n",
    "    .withColumn(\"beta\", col(\"idxStockVariance\") / col(\"idxVariance\"))\n",
    "    .select(\"updateDate\", \"market\", \"stockCode\", \"stockFullName\", \"year\", \"weekOfYear\", \"weekOfDay\", \"clsprcIdx\", \"closingPrice\", \"beta\")\n",
    "    .where(col(\"updateDate\") >= \"20230630\")\n",
    "    .where(col(\"beta\").isNotNull)\n",
    "    \n",
    "    ).cache()"
   ]
  },
  {
   "cell_type": "code",
   "execution_count": null,
   "metadata": {},
   "outputs": [],
   "source": [
    "\"\"\"\n",
    "(\n",
    "    beta.where(col(\"updateDate\") > \"20230630\")\n",
    "    .write.format(\"mongodb\")\n",
    "    .mode(\"append\")\n",
    "    .option(\"upsertDocument\", \"true\")\n",
    "    .option(\"idFieldList\", \"updateDate,stockCode\")\n",
    "    .option(\"spark.mongodb.read.connection.uri\", mongoUrl)\n",
    "    .option(\"spark.mongodb.write.connection.uri\", mongoUrl)\n",
    "    .option(\"database\", \"coreEngine\")\n",
    "    .option(\"collection\", \"PriceBetaCalcurate\")\n",
    "    .save()\n",
    "    )\n",
    "    \"\"\""
   ]
  },
  {
   "cell_type": "code",
   "execution_count": null,
   "metadata": {},
   "outputs": [],
   "source": [
    "spark.stop()"
   ]
  },
  {
   "cell_type": "code",
   "execution_count": null,
   "metadata": {},
   "outputs": [],
   "source": []
  },
  {
   "cell_type": "code",
   "execution_count": null,
   "metadata": {},
   "outputs": [],
   "source": []
  },
  {
   "cell_type": "code",
   "execution_count": null,
   "metadata": {},
   "outputs": [],
   "source": []
  }
 ],
 "metadata": {
  "kernelspec": {
   "display_name": "Spark",
   "language": "scala",
   "name": "sparkkernel"
  },
  "language_info": {
   "codemirror_mode": "text/x-scala",
   "file_extension": ".sc",
   "mimetype": "text/x-scala",
   "name": "scala",
   "pygments_lexer": "scala"
  }
 },
 "nbformat": 4,
 "nbformat_minor": 4
}
