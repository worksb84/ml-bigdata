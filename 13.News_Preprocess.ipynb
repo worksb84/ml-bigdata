{
 "cells": [
  {
   "cell_type": "code",
   "execution_count": null,
   "metadata": {},
   "outputs": [],
   "source": [
    "import org.apache.spark.sql.functions._\n",
    "import org.apache.spark.sql.expressions._\n",
    "import scala.util.{Failure, Success, Try}\n",
    "import org.apache.spark.sql.types._\n",
    "import org.apache.spark.sql.SparkSession\n",
    "\n",
    "import java.time.LocalDateTime\n",
    "import java.time.LocalDate\n",
    "import java.time.format.DateTimeFormatter\n",
    "import java.time.temporal.ChronoUnit.DAYS"
   ]
  },
  {
   "cell_type": "code",
   "execution_count": null,
   "metadata": {},
   "outputs": [],
   "source": [
    "val appName = LocalDateTime.now().format(DateTimeFormatter.ofPattern(\"yyyyMMddHHmmss\"))\n",
    "\n",
    "val spark = (\n",
    "    SparkSession\n",
    "    .builder()\n",
    "    .appName(appName)\n",
    "    .config(\"spark.cores.max\", 8)\n",
    "    .config(\"spark.executor.cores\", 8)\n",
    "    .config(\"spark.executor.memory\", \"36g\")\n",
    "    .getOrCreate()\n",
    "    )"
   ]
  },
  {
   "cell_type": "code",
   "execution_count": null,
   "metadata": {},
   "outputs": [],
   "source": [
    "val mongoUrl = \"mongodb+srv://xxxxxxxxxxxxxxxxxxxxxx/\""
   ]
  },
  {
   "cell_type": "code",
   "execution_count": null,
   "metadata": {},
   "outputs": [],
   "source": [
    "// createdAt 20230508\n",
    "\n",
    "val df = (\n",
    "    spark.read.format(\"mongodb\")\n",
    "    .option(\"spark.mongodb.read.connection.uri\", mongoUrl)\n",
    "    .option(\"spark.mongodb.write.connection.uri\", mongoUrl)\n",
    "    .option(\"database\", \"coreEngine\")\n",
    "    .option(\"collection\", \"News\")\n",
    "    .load()\n",
    "    .drop(\"_id\")\n",
    "    )"
   ]
  },
  {
   "cell_type": "code",
   "execution_count": null,
   "metadata": {},
   "outputs": [],
   "source": [
    "df.printSchema()"
   ]
  },
  {
   "cell_type": "code",
   "execution_count": null,
   "metadata": {},
   "outputs": [],
   "source": [
    "val ns = (\n",
    "    df\n",
    "    .withColumn(\"stockCode\", explode(col(\"stockCode\")))\n",
    "    .withColumn(\"sentimentContent\", explode(col(\"sentimentContent\")))\n",
    "    .withColumn(\"label\", col(\"sentimentContent.sentiment.label\"))\n",
    "    .withColumn(\"score\", col(\"sentimentContent.sentiment.score\"))\n",
    "    .withColumn(\"wholeParagraph\", count(\"stockCode\").over(Window.partitionBy(\"createdAt\", \"stockCode\")))\n",
    "    .withColumn(\"labelCount\", count(\"stockCode\").over(Window.partitionBy(\"createdAt\", \"stockCode\", \"label\", \"newsId\")))\n",
    "    .where(col(\"label\") === \"negative\")\n",
    "    .select(\"createdAt\", \"stockCode\", \"label\", \"wholeParagraph\", \"labelCount\")\n",
    "    .distinct()\n",
    "    .withColumn(\"riskParagraph\", sum(\"labelCount\").over(Window.partitionBy(\"createdAt\", \"stockCode\", \"label\", \"wholeParagraph\")))\n",
    "    .select(\"createdAt\", \"stockCode\", \"wholeParagraph\", \"riskParagraph\")\n",
    "    .distinct()\n",
    "    .withColumn(\"documentRiskPremium\", col(\"riskParagraph\") / col(\"wholeParagraph\"))\n",
    "    .withColumn(\"riskPremium\", col(\"riskParagraph\") / sum(\"wholeParagraph\").over(Window.partitionBy(\"createdAt\")))\n",
    "    .withColumnRenamed(\"createdAt\", \"updateDate\")\n",
    "    .orderBy(\"updateDate\", \"stockCode\")\n",
    ")"
   ]
  },
  {
   "cell_type": "code",
   "execution_count": null,
   "metadata": {},
   "outputs": [],
   "source": [
    "ns.show()"
   ]
  },
  {
   "cell_type": "code",
   "execution_count": null,
   "metadata": {},
   "outputs": [],
   "source": [
    "\"\"\"\n",
    "(\n",
    "    ns\n",
    "    .na.fill(0)\n",
    "    .write.format(\"mongodb\")\n",
    "    .mode(\"append\")\n",
    "    .option(\"upsertDocument\", \"true\")\n",
    "    .option(\"idFieldList\", \"updateDate,stockCode\")\n",
    "    .option(\"spark.mongodb.read.connection.uri\", mongoUrl)\n",
    "    .option(\"spark.mongodb.write.connection.uri\", mongoUrl)\n",
    "    .option(\"database\", \"coreEngine\")\n",
    "    .option(\"collection\", \"NewsRiskPremium\")\n",
    "    .save()\n",
    "    )\n",
    "\"\"\""
   ]
  },
  {
   "cell_type": "code",
   "execution_count": null,
   "metadata": {},
   "outputs": [],
   "source": []
  },
  {
   "cell_type": "code",
   "execution_count": null,
   "metadata": {},
   "outputs": [],
   "source": []
  }
 ],
 "metadata": {
  "kernelspec": {
   "display_name": "Spark",
   "language": "scala",
   "name": "sparkkernel"
  },
  "language_info": {
   "codemirror_mode": "text/x-scala",
   "file_extension": ".sc",
   "mimetype": "text/x-scala",
   "name": "scala",
   "pygments_lexer": "scala"
  }
 },
 "nbformat": 4,
 "nbformat_minor": 4
}
