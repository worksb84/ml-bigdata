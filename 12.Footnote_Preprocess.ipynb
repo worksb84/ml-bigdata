{
 "cells": [
  {
   "cell_type": "code",
   "execution_count": null,
   "metadata": {},
   "outputs": [],
   "source": [
    "import org.apache.spark.sql.functions._\n",
    "import org.apache.spark.sql.expressions._\n",
    "import scala.util.{Failure, Success, Try}\n",
    "import org.apache.spark.sql.types._\n",
    "import org.apache.spark.sql.SparkSession"
   ]
  },
  {
   "cell_type": "code",
   "execution_count": null,
   "metadata": {},
   "outputs": [],
   "source": [
    "val badKeywords = List(\n",
    "    \"정지\", \"대출금\", \"지연공시\", \"매매정지\", \"감사범위\", \"법정관리\", \"위험종목\", \"횡령\", \"상장적정성\", \"상장적격성\", \"불성실\", \"어음교환소\", \"주권매매\",\n",
    "    \"몰락\", \"미제출\", \"주권매매거래\", \"계속기업\", \"원리금\", \"파산\", \"불성실공시법인\", \"거래정지\", \"투자위험종목\", \"불성실공시\", \"부실화\", \"파산신청\", \"외부감사인\",\n",
    "    \"비적정설\", \"경과시점\", \"투자경고종목\", \"감사보고서\", \"지정해제\", \"속출\", \"비적정\", \"잠식\", \"코스닥시장위원회\", \"공시불이행\", \"손실\", \"범위제한\", \"자본잠식률\",\n",
    "    \"관리종목\", \"결정시\", \"상장폐지\", \"과열종목\", \"경영난\", \"내부회계관리제도\", \"이의신청\", \"심의결과\", \"허위\", \"회생\", \"부실기업\", \"자금난\", \"상폐\",\n",
    "    \"관리종목지정사유\", \"환기종목\", \"의견거절\", \"코스닥시장본부\", \"공시변경\", \"상장 폐지\", \"검토의견\", \"회계처리기준\", \"어음\", \"공매도\", \"파산신청설\", \"제때\",\n",
    "    \"투자주의\", \"외환\", \"불성실공시법인지정\", \"채무불이행\", \"적출기준\", \"적격성\", \"감사의견\", \"공시법인\", \"미해소\", \"지정예고\", \"기업심사위원회\", \"배임\", \"연체\",\n",
    "    \"기업회생\", \"투자경고\", \"공시번복\", \"미지정\", \"재지정\", \"분기보고서\", \"투자주의환기종목\", \"부적정\", \"매매거래\", \"지정우려\", \"매매거래정지\", \"회생절차\",\n",
    "    \"도산\", \"적정의견\", \"채무\", \"퇴출\", \"번복\", \"감사절차\", \"워크아웃\", \"개선기간\", \"분식회계\", \"투자주의종목\", \"한계기업\", \"지정사유\", \"감사범위제한\",\n",
    "    \"외부감사\", \"상장폐지사유\", \"시장경보종목\", \"폐업\", \"실질심사\", \"부실\", \"자본잠식\", \"장기체화재고\", \"대손충당\", \"과소계상\", \"손상사건\", \"포괄손익계산서\",\n",
    "    \"별도손익계산서\", \"무형자산\", \"자산손상\", \"감액\", \"사업다각화\", \"연결적자\", \"자본잠식\", \"특수관계인\", \"담보제공내역\", \"담보제공\", \"담보제공재산\",\n",
    "    \"보증\", \"지급보증\", \"자금보충약정\", \"금융보증부채\", \"확약\", \"충당부채\", \"우발채무\", \"소송사건\", \"계류중\", \"소송가액\", \"손해배상\", \"소송\",\n",
    "    \"신종자본증권\", \"파업\", \"압수\", \"압수수색\", \"수색\"\n",
    ")"
   ]
  },
  {
   "cell_type": "code",
   "execution_count": null,
   "metadata": {},
   "outputs": [],
   "source": [
    "val spark = (\n",
    "    SparkSession\n",
    "    .builder()\n",
    "    .appName(\"FootnotePreprocess\")\n",
    "    .config(\"spark.cores.max\", 8)\n",
    "    .config(\"spark.executor.cores\", 8)\n",
    "    .config(\"spark.executor.memory\", \"36g\")\n",
    "    .getOrCreate()\n",
    "    )\n",
    "\n",
    "val mongoUrl = \"mongodb+srv://xxxxxxxxxxxxxxxxxxxxxx/\""
   ]
  },
  {
   "cell_type": "code",
   "execution_count": null,
   "metadata": {},
   "outputs": [],
   "source": [
    "val df = (\n",
    "    spark.read.format(\"mongodb\")\n",
    "    .option(\"spark.mongodb.read.connection.uri\", mongoUrl)\n",
    "    .option(\"spark.mongodb.write.connection.uri\", mongoUrl)\n",
    "    .option(\"database\", \"coreEngine\")\n",
    "    .option(\"collection\", \"Footnote\")\n",
    "    .load()\n",
    "    .drop(\"_id\")\n",
    "    .where(col(\"bsnsYear\") >= \"2021\")\n",
    "    ).cache()"
   ]
  },
  {
   "cell_type": "code",
   "execution_count": null,
   "metadata": {},
   "outputs": [],
   "source": [
    "df.show()"
   ]
  },
  {
   "cell_type": "code",
   "execution_count": null,
   "metadata": {},
   "outputs": [],
   "source": [
    "val example = \"\"\"\n",
    "<body>\n",
    "    <p>\n",
    "        <b>asdfasdf</b>\n",
    "    </p>\n",
    "</body>\n",
    "\"\"\"\n",
    "\n",
    "val regex = \"(b?)\".r\n",
    "\n",
    "regex.replaceAllIn(example, \"x\")  # example에 있는 b를 x로 변환\n"
   ]
  }
 ],
 "metadata": {
  "kernelspec": {
   "display_name": "Spark",
   "language": "scala",
   "name": "sparkkernel"
  },
  "language_info": {
   "codemirror_mode": "text/x-scala",
   "file_extension": ".sc",
   "mimetype": "text/x-scala",
   "name": "scala",
   "pygments_lexer": "scala"
  }
 },
 "nbformat": 4,
 "nbformat_minor": 4
}
