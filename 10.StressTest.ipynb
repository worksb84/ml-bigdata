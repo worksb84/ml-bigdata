{
 "cells": [
  {
   "cell_type": "code",
   "execution_count": null,
   "metadata": {},
   "outputs": [],
   "source": [
    "import org.apache.spark.sql.functions._\n",
    "import org.apache.spark.sql.expressions._\n",
    "import scala.util.{Failure, Success, Try}\n",
    "import org.apache.spark.sql.types._\n",
    "import org.apache.spark.sql.SparkSession"
   ]
  },
  {
   "cell_type": "code",
   "execution_count": null,
   "metadata": {},
   "outputs": [],
   "source": [
    "val spark = (\n",
    "    SparkSession\n",
    "    .builder()\n",
    "    .appName(\"StressTest\")\n",
    "    .config(\"spark.cores.max\", 4)\n",
    "    .config(\"spark.executor.cores\", 4)\n",
    "    .config(\"spark.executor.memory\", \"36g\")\n",
    "    .getOrCreate()\n",
    "    )\n",
    "    \n",
    "val csv_options = Map(\"header\" -> \"true\")"
   ]
  },
  {
   "cell_type": "code",
   "execution_count": null,
   "metadata": {},
   "outputs": [],
   "source": [
    "val mongoUrl = \"mongodb+srv://xxxxxxxxxxxxxxxxxxxxxx/\"\n",
    "\n",
    "val priceRiskPremium = (\n",
    "    spark.read.format(\"mongodb\")\n",
    "    .option(\"spark.mongodb.read.connection.uri\", mongoUrl)\n",
    "    .option(\"spark.mongodb.write.connection.uri\", mongoUrl)\n",
    "    .option(\"database\", \"coreEngine\")\n",
    "    .option(\"collection\", \"PriceRiskPremium\").load()\n",
    "    .select(\"stockCode\", \"stockFullName\", \"riskPremium\", \"updateDate\")\n",
    "    .where(col(\"updateDate\") > \"20220101\")\n",
    "    .withColumn(\"riskPremium\", col(\"riskPremium\").cast(DoubleType))\n",
    "    )\n",
    "\n",
    "val creditLoanRate = (\n",
    "    spark.read.format(\"mongodb\")\n",
    "    .option(\"spark.mongodb.read.connection.uri\", mongoUrl)\n",
    "    .option(\"spark.mongodb.write.connection.uri\", mongoUrl)\n",
    "    .option(\"database\", \"coreEngine\")\n",
    "    .option(\"collection\", \"CreditLoanRate\").load()\n",
    "    .select(\"stockCode\", \"balanceRateLoan\", \"updateDate\")\n",
    "    .where(col(\"updateDate\") > \"20220101\")\n",
    "    .withColumn(\"balanceRateLoan\", col(\"balanceRateLoan\").cast(DoubleType))\n",
    "    .withColumn(\"stockCode\", lpad(col(\"stockCode\"), 6, \"0\"))\n",
    "    )"
   ]
  },
  {
   "cell_type": "code",
   "execution_count": null,
   "metadata": {},
   "outputs": [],
   "source": [
    "val partition = Window.partitionBy(\"stockCode\").orderBy(\"updateDate\")\n",
    "val ff60 = partition.rowsBetween(-60, 0)\n",
    "val ff30 = partition.rowsBetween(-30, 0)\n",
    "\n",
    "val stress = (\n",
    "    priceRiskPremium.join(creditLoanRate, Seq(\"stockCode\", \"updateDate\"), \"left\")\n",
    "    .withColumn(\"stress\", col(\"riskPremium\") * 100000 * col(\"balanceRateLoan\"))\n",
    "    .withColumn(\"stressWarn\", when(col(\"stress\") >= 1, 1).otherwise(null))\n",
    "    .withColumn(\"stressAlert\", when(col(\"balanceRateLoan\") >= 5, 1).otherwise(null))\n",
    "    .withColumn(\"lockWarn30\", first(col(\"stressWarn\"), true).over(ff30))\n",
    "    .withColumn(\"lockWarn60\", first(col(\"stressWarn\"), true).over(ff60))\n",
    "    .withColumn(\"lockAlert30\", first(col(\"stressAlert\"), true).over(ff30))\n",
    "    .withColumn(\"lockAlert60\", first(col(\"stressAlert\"), true).over(ff60))\n",
    "    .na.fill(0)\n",
    ")"
   ]
  },
  {
   "cell_type": "code",
   "execution_count": null,
   "metadata": {},
   "outputs": [],
   "source": [
    "// (\n",
    "//     stress\n",
    "// //     .where(col(\"alert\") === 1)\n",
    "// //     .where(col(\"stockCode\").isin(Seq(\"003610\", \"109860\", \"004890\", \"001080\", \"001070\", \"017390\", \"016710\", \"004690\", \"004360\", \"003380\", \"032190\", \"003100\"):_*))\n",
    "//     .where(col(\"updateDate\") > \"20220101\")\n",
    "//     .orderBy(\"stockCode\", \"updateDate\")\n",
    "//     .withColumn(\"riskPremium\", col(\"riskPremium\").cast(DoubleType))\n",
    "//     .coalesce(1).write.option(\"header\", \"true\").csv(\"s3n://available-raw/Output_20230707_3.csv\")\n",
    "// )"
   ]
  },
  {
   "cell_type": "code",
   "execution_count": null,
   "metadata": {},
   "outputs": [],
   "source": [
    "\"\"\"\n",
    "(\n",
    "    stress\n",
    "    .where(col(\"updateDate\") > \"20230630\")\n",
    "    .write.format(\"mongodb\")\n",
    "    .mode(\"append\")\n",
    "    .option(\"upsertDocument\", \"true\")\n",
    "    .option(\"idFieldList\", \"updateDate,stockCode\")\n",
    "    .option(\"spark.mongodb.read.connection.uri\", mongoUrl)\n",
    "    .option(\"spark.mongodb.write.connection.uri\", mongoUrl)\n",
    "    .option(\"database\", \"coreEngine\")\n",
    "    .option(\"collection\", \"StressTest\")\n",
    "    .save()\n",
    "    )\n",
    "    \"\"\""
   ]
  },
  {
   "cell_type": "code",
   "execution_count": null,
   "metadata": {},
   "outputs": [],
   "source": [
    "spark.stop()"
   ]
  }
 ],
 "metadata": {
  "kernelspec": {
   "display_name": "Spark",
   "language": "scala",
   "name": "sparkkernel"
  },
  "language_info": {
   "codemirror_mode": "text/x-scala",
   "file_extension": ".sc",
   "mimetype": "text/x-scala",
   "name": "scala",
   "pygments_lexer": "scala"
  }
 },
 "nbformat": 4,
 "nbformat_minor": 4
}
